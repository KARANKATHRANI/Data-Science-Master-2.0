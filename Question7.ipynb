{
 "cells": [
  {
   "cell_type": "code",
   "execution_count": 1,
   "id": "5f3ba632-8714-4512-a4fc-2d92f093516d",
   "metadata": {},
   "outputs": [],
   "source": [
    "lst=[1,2,4,5,7,8]\n",
    "tup=(1,2,3,5,6,8)"
   ]
  },
  {
   "cell_type": "code",
   "execution_count": 2,
   "id": "761ca227-93ef-40cd-b766-765e1fd23003",
   "metadata": {},
   "outputs": [],
   "source": [
    "lst[2]=9"
   ]
  },
  {
   "cell_type": "code",
   "execution_count": 3,
   "id": "6df5638a-a60c-43c1-9147-1c7769dd95bd",
   "metadata": {},
   "outputs": [
    {
     "data": {
      "text/plain": [
       "[1, 2, 9, 5, 7, 8]"
      ]
     },
     "execution_count": 3,
     "metadata": {},
     "output_type": "execute_result"
    }
   ],
   "source": [
    "lst"
   ]
  },
  {
   "cell_type": "code",
   "execution_count": 4,
   "id": "dd525ecd-9df4-423a-8dfa-3b90d806e88a",
   "metadata": {},
   "outputs": [
    {
     "ename": "TypeError",
     "evalue": "'tuple' object does not support item assignment",
     "output_type": "error",
     "traceback": [
      "\u001b[0;31m---------------------------------------------------------------------------\u001b[0m",
      "\u001b[0;31mTypeError\u001b[0m                                 Traceback (most recent call last)",
      "Cell \u001b[0;32mIn[4], line 1\u001b[0m\n\u001b[0;32m----> 1\u001b[0m \u001b[43mtup\u001b[49m\u001b[43m[\u001b[49m\u001b[38;5;241;43m2\u001b[39;49m\u001b[43m]\u001b[49m\u001b[38;5;241m=\u001b[39m\u001b[38;5;241m9\u001b[39m\n",
      "\u001b[0;31mTypeError\u001b[0m: 'tuple' object does not support item assignment"
     ]
    }
   ],
   "source": [
    "tup[2]=9"
   ]
  },
  {
   "cell_type": "code",
   "execution_count": 5,
   "id": "c0543bf9-fa5a-4768-bf3b-defaa04e4529",
   "metadata": {},
   "outputs": [
    {
     "data": {
      "text/plain": [
       "3"
      ]
     },
     "execution_count": 5,
     "metadata": {},
     "output_type": "execute_result"
    }
   ],
   "source": [
    "tup[2]"
   ]
  },
  {
   "cell_type": "code",
   "execution_count": null,
   "id": "6f144389-953f-4e92-8ac9-2a749163ff34",
   "metadata": {},
   "outputs": [],
   "source": [
    "#tuple is imutable \n",
    "#list is mutable "
   ]
  }
 ],
 "metadata": {
  "kernelspec": {
   "display_name": "Python 3 (ipykernel)",
   "language": "python",
   "name": "python3"
  },
  "language_info": {
   "codemirror_mode": {
    "name": "ipython",
    "version": 3
   },
   "file_extension": ".py",
   "mimetype": "text/x-python",
   "name": "python",
   "nbconvert_exporter": "python",
   "pygments_lexer": "ipython3",
   "version": "3.10.8"
  }
 },
 "nbformat": 4,
 "nbformat_minor": 5
}
