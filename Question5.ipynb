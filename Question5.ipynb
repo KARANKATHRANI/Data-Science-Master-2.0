{
 "cells": [
  {
   "cell_type": "code",
   "execution_count": 3,
   "id": "4bc9c9a5-e550-4ebf-b2c4-cf078647a578",
   "metadata": {},
   "outputs": [
    {
     "name": "stdin",
     "output_type": "stream",
     "text": [
      " Enter a numerator  :  6\n",
      "Enter a denominator :  3\n"
     ]
    },
    {
     "name": "stdout",
     "output_type": "stream",
     "text": [
      "3  is is purly  divisible and it's divide  1 times.\n"
     ]
    }
   ],
   "source": [
    "A=int(input(\" Enter a numerator  : \"  ))\n",
    "B=int(input(\"Enter a denominator : \"))\n",
    "count =0\n",
    "while(A%B==0):\n",
    "    A=A/B\n",
    "    count+=1\n",
    "    if(count>0):\n",
    "        print(f\"{B}  is is purly  divisible and it's divide  {count} times.\")\n",
    "    else :\n",
    "        print(f\"{B} not divide {A} evenly\")\n",
    "        \n",
    "\n",
    "        "
   ]
  },
  {
   "cell_type": "code",
   "execution_count": null,
   "id": "46fe998d-078d-4a64-a027-f2ff3389bdcb",
   "metadata": {},
   "outputs": [],
   "source": []
  },
  {
   "cell_type": "code",
   "execution_count": null,
   "id": "e46295c5-6430-4e6e-8f15-bd83eb600bb0",
   "metadata": {},
   "outputs": [],
   "source": []
  }
 ],
 "metadata": {
  "kernelspec": {
   "display_name": "Python 3 (ipykernel)",
   "language": "python",
   "name": "python3"
  },
  "language_info": {
   "codemirror_mode": {
    "name": "ipython",
    "version": 3
   },
   "file_extension": ".py",
   "mimetype": "text/x-python",
   "name": "python",
   "nbconvert_exporter": "python",
   "pygments_lexer": "ipython3",
   "version": "3.10.8"
  }
 },
 "nbformat": 4,
 "nbformat_minor": 5
}
