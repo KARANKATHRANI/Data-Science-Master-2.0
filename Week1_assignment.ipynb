{
 "cells": [
  {
   "cell_type": "markdown",
   "id": "21b67b80-c554-4e37-b701-1bfc3bf8bdb3",
   "metadata": {},
   "source": [
    "### Question : 1 Create one variable containing following type of data:"
   ]
  },
  {
   "cell_type": "code",
   "execution_count": 1,
   "id": "f3681662-d921-4855-86dc-29eba179961c",
   "metadata": {},
   "outputs": [],
   "source": [
    "a=\"karan\""
   ]
  },
  {
   "cell_type": "code",
   "execution_count": 2,
   "id": "c146d572-f7a1-4268-b55f-ceb506c52bbf",
   "metadata": {},
   "outputs": [
    {
     "data": {
      "text/plain": [
       "str"
      ]
     },
     "execution_count": 2,
     "metadata": {},
     "output_type": "execute_result"
    }
   ],
   "source": [
    "type(a)"
   ]
  },
  {
   "cell_type": "code",
   "execution_count": 3,
   "id": "b618f536-c30e-45b1-a043-c1d3e2241d8f",
   "metadata": {},
   "outputs": [
    {
     "data": {
      "text/plain": [
       "tuple"
      ]
     },
     "execution_count": 3,
     "metadata": {},
     "output_type": "execute_result"
    }
   ],
   "source": [
    "l=1,2,3,4\n",
    "type(l)"
   ]
  },
  {
   "cell_type": "code",
   "execution_count": 5,
   "id": "983bc555-4b3b-48c2-ae02-795cd2fcc7de",
   "metadata": {},
   "outputs": [
    {
     "data": {
      "text/plain": [
       "list"
      ]
     },
     "execution_count": 5,
     "metadata": {},
     "output_type": "execute_result"
    }
   ],
   "source": [
    "list=[1,345.65,4+3j,\"karan\"]\n",
    "type(list)"
   ]
  },
  {
   "cell_type": "code",
   "execution_count": 4,
   "id": "39dd2da2-b7b2-485d-afa5-70e5fe02eda7",
   "metadata": {},
   "outputs": [
    {
     "data": {
      "text/plain": [
       "float"
      ]
     },
     "execution_count": 4,
     "metadata": {},
     "output_type": "execute_result"
    }
   ],
   "source": [
    "b=34.654\n",
    "type(b)"
   ]
  },
  {
   "cell_type": "markdown",
   "id": "9c70fe03-0c7f-4162-9458-a165c5c8cc27",
   "metadata": {},
   "source": [
    "### Question 2: Given are some following variables containing data\n"
   ]
  },
  {
   "cell_type": "code",
   "execution_count": null,
   "id": "d3aa566a-7dcf-430f-bff6-a38d8f5ca275",
   "metadata": {},
   "outputs": [],
   "source": [
    "var1=''\n",
    "var2='[DS,ML,Python]'\n",
    "var3=['DS','ML','Python']\n",
    "var4=1"
   ]
  },
  {
   "cell_type": "code",
   "execution_count": 3,
   "id": "c7ec52c2-aa64-4b02-820b-5ce1a4417337",
   "metadata": {},
   "outputs": [
    {
     "data": {
      "text/plain": [
       "str"
      ]
     },
     "execution_count": 3,
     "metadata": {},
     "output_type": "execute_result"
    }
   ],
   "source": [
    "type(var1)"
   ]
  },
  {
   "cell_type": "code",
   "execution_count": 4,
   "id": "90b48bd4-84ea-4fba-811e-dd82220f3685",
   "metadata": {},
   "outputs": [
    {
     "data": {
      "text/plain": [
       "str"
      ]
     },
     "execution_count": 4,
     "metadata": {},
     "output_type": "execute_result"
    }
   ],
   "source": [
    "type(var2)"
   ]
  },
  {
   "cell_type": "code",
   "execution_count": 5,
   "id": "61555fa6-278e-44e0-845e-d5abbf0ba1f7",
   "metadata": {},
   "outputs": [
    {
     "data": {
      "text/plain": [
       "list"
      ]
     },
     "execution_count": 5,
     "metadata": {},
     "output_type": "execute_result"
    }
   ],
   "source": [
    "type(var3)"
   ]
  },
  {
   "cell_type": "code",
   "execution_count": 6,
   "id": "277a5d3c-0386-48dc-af6b-1b785bfd2837",
   "metadata": {},
   "outputs": [
    {
     "data": {
      "text/plain": [
       "int"
      ]
     },
     "execution_count": 6,
     "metadata": {},
     "output_type": "execute_result"
    }
   ],
   "source": [
    "type(var4)"
   ]
  },
  {
   "cell_type": "markdown",
   "id": "04d3f8df-8e9f-404e-8c7c-034a0d32c8b9",
   "metadata": {},
   "source": [
    "### Question 3: Explain the use of the following operators using an example"
   ]
  },
  {
   "cell_type": "code",
   "execution_count": 7,
   "id": "0659391b-52ed-4183-88fd-f282e508c9a4",
   "metadata": {},
   "outputs": [
    {
     "data": {
      "text/plain": [
       "2.0"
      ]
     },
     "execution_count": 7,
     "metadata": {},
     "output_type": "execute_result"
    }
   ],
   "source": [
    "10/5"
   ]
  },
  {
   "cell_type": "code",
   "execution_count": 8,
   "id": "a8eb06c8-cdc1-4909-827c-9cd8153ae9cf",
   "metadata": {},
   "outputs": [
    {
     "data": {
      "text/plain": [
       "0"
      ]
     },
     "execution_count": 8,
     "metadata": {},
     "output_type": "execute_result"
    }
   ],
   "source": [
    "10%2"
   ]
  },
  {
   "cell_type": "code",
   "execution_count": 9,
   "id": "91be618a-fe59-4d80-937b-b7664b616fb9",
   "metadata": {},
   "outputs": [
    {
     "data": {
      "text/plain": [
       "1"
      ]
     },
     "execution_count": 9,
     "metadata": {},
     "output_type": "execute_result"
    }
   ],
   "source": [
    "10%3"
   ]
  },
  {
   "cell_type": "code",
   "execution_count": 10,
   "id": "3d97bd4a-c735-49bf-b807-ef2cfe6c694b",
   "metadata": {},
   "outputs": [
    {
     "data": {
      "text/plain": [
       "3"
      ]
     },
     "execution_count": 10,
     "metadata": {},
     "output_type": "execute_result"
    }
   ],
   "source": [
    "10//3"
   ]
  },
  {
   "cell_type": "code",
   "execution_count": 11,
   "id": "17678d4d-fd07-4b46-8a06-67ec63d04e85",
   "metadata": {},
   "outputs": [
    {
     "data": {
      "text/plain": [
       "2"
      ]
     },
     "execution_count": 11,
     "metadata": {},
     "output_type": "execute_result"
    }
   ],
   "source": [
    "10//4"
   ]
  },
  {
   "cell_type": "code",
   "execution_count": 12,
   "id": "a42c2c14-8313-436b-99c2-ce19699b3268",
   "metadata": {},
   "outputs": [
    {
     "data": {
      "text/plain": [
       "2"
      ]
     },
     "execution_count": 12,
     "metadata": {},
     "output_type": "execute_result"
    }
   ],
   "source": [
    "10//5"
   ]
  },
  {
   "cell_type": "code",
   "execution_count": 13,
   "id": "bcafd0e0-bd05-48c6-9fae-54350d5d6e4c",
   "metadata": {},
   "outputs": [
    {
     "data": {
      "text/plain": [
       "8"
      ]
     },
     "execution_count": 13,
     "metadata": {},
     "output_type": "execute_result"
    }
   ],
   "source": [
    "2**3"
   ]
  },
  {
   "cell_type": "code",
   "execution_count": 14,
   "id": "4ba02b67-e4a2-4e9a-a9f2-8941be00a039",
   "metadata": {},
   "outputs": [
    {
     "data": {
      "text/plain": [
       "16"
      ]
     },
     "execution_count": 14,
     "metadata": {},
     "output_type": "execute_result"
    }
   ],
   "source": [
    "2**4"
   ]
  },
  {
   "cell_type": "code",
   "execution_count": 15,
   "id": "d2305b4b-9e91-483a-8ebb-f59eb7515f93",
   "metadata": {},
   "outputs": [
    {
     "data": {
      "text/plain": [
       "27"
      ]
     },
     "execution_count": 15,
     "metadata": {},
     "output_type": "execute_result"
    }
   ],
   "source": [
    "3**3"
   ]
  },
  {
   "cell_type": "markdown",
   "id": "d7b167bb-f591-44b7-848d-ad12df650895",
   "metadata": {},
   "source": [
    "#### Question 4: Create a list of length 10 of your choice containing multiple types of data. Using for loop print the element and its data type."
   ]
  },
  {
   "cell_type": "code",
   "execution_count": 17,
   "id": "8b640304-f962-4979-9f93-da05c589bc7d",
   "metadata": {},
   "outputs": [
    {
     "name": "stdout",
     "output_type": "stream",
     "text": [
      "1\n",
      "<class 'int'>\n",
      "2.3\n",
      "<class 'float'>\n",
      "karan\n",
      "<class 'str'>\n",
      "True\n",
      "<class 'bool'>\n",
      "c\n",
      "<class 'str'>\n",
      "33\n",
      "<class 'int'>\n",
      "55\n",
      "<class 'int'>\n",
      "54.6077\n",
      "<class 'float'>\n",
      "(2+3j)\n",
      "<class 'complex'>\n",
      "(3+2j)\n",
      "<class 'complex'>\n"
     ]
    }
   ],
   "source": [
    "l=[1,2.3,\"karan\",True,'c',33,55,54.6077,2+3j,3+2j]\n",
    "for i in l:\n",
    "    print(i)\n",
    "    print(type(i))"
   ]
  },
  {
   "cell_type": "markdown",
   "id": "4b6af69d-02fe-46a3-b111-f9476c32d642",
   "metadata": {},
   "source": [
    "### Quesstion 5 : Using a while loop, verify if the number A is purely divisible by number B and if so then how many  times it can be divisible."
   ]
  },
  {
   "cell_type": "code",
   "execution_count": 18,
   "id": "961553ce-76de-4859-a7f3-9046f4cee994",
   "metadata": {},
   "outputs": [
    {
     "name": "stdin",
     "output_type": "stream",
     "text": [
      " Enter a numerator  :  6\n",
      "Enter a denominator :  3\n"
     ]
    },
    {
     "name": "stdout",
     "output_type": "stream",
     "text": [
      "3  is is purly  divisible and it's divide  1 times.\n"
     ]
    }
   ],
   "source": [
    "A=int(input(\" Enter a numerator  : \"  ))\n",
    "B=int(input(\"Enter a denominator : \"))\n",
    "count =0\n",
    "while(A%B==0):\n",
    "    A=A/B\n",
    "    count+=1\n",
    "    if(count>0):\n",
    "        print(f\"{B}  is is purly  divisible and it's divide  {count} times.\")\n",
    "    else :\n",
    "        print(f\"{B} not divide {A} evenly\")"
   ]
  },
  {
   "cell_type": "markdown",
   "id": "a95b6a21-c627-498a-b8eb-b9fed8ca60be",
   "metadata": {},
   "source": [
    "### Question 6 : Create a list containing 25 int type data. Using for loop and if-else condition print if the element is divisible by 3 or not"
   ]
  },
  {
   "cell_type": "code",
   "execution_count": 20,
   "id": "cc0699a3-aa3b-4c0d-990a-7a70d8781e05",
   "metadata": {},
   "outputs": [],
   "source": [
    "lst=list(range(1,26))"
   ]
  },
  {
   "cell_type": "code",
   "execution_count": 21,
   "id": "3df4d816-7b63-4ae3-910b-5ffd9fb54752",
   "metadata": {},
   "outputs": [
    {
     "name": "stdout",
     "output_type": "stream",
     "text": [
      "[1, 2, 3, 4, 5, 6, 7, 8, 9, 10, 11, 12, 13, 14, 15, 16, 17, 18, 19, 20, 21, 22, 23, 24, 25]\n"
     ]
    }
   ],
   "source": [
    "print(lst)"
   ]
  },
  {
   "cell_type": "code",
   "execution_count": 22,
   "id": "cf407f8a-a8c3-4e2e-bcb8-09c03f202332",
   "metadata": {},
   "outputs": [],
   "source": [
    "lst=list(range(1,26))\n",
    "l1=[]\n",
    "l2=[]\n",
    "for i in lst:\n",
    "    if(i%3==0):\n",
    "       # print(f\" {i} is divisible by 3 \")\n",
    "       l1.append(i)\n",
    "        \n",
    "    else:\n",
    "       # print(f\" {i} is not divisible by 3 \")\n",
    "       l2.append(i)"
   ]
  },
  {
   "cell_type": "code",
   "execution_count": 23,
   "id": "5aac8f86-71b5-4c32-87ef-efccd17b150d",
   "metadata": {},
   "outputs": [
    {
     "data": {
      "text/plain": [
       "[3, 6, 9, 12, 15, 18, 21, 24]"
      ]
     },
     "execution_count": 23,
     "metadata": {},
     "output_type": "execute_result"
    }
   ],
   "source": [
    "l1"
   ]
  },
  {
   "cell_type": "code",
   "execution_count": 24,
   "id": "2c1bb82f-6fd6-423f-8b37-c158563c82d6",
   "metadata": {},
   "outputs": [
    {
     "data": {
      "text/plain": [
       "[1, 2, 4, 5, 7, 8, 10, 11, 13, 14, 16, 17, 19, 20, 22, 23, 25]"
      ]
     },
     "execution_count": 24,
     "metadata": {},
     "output_type": "execute_result"
    }
   ],
   "source": [
    "l2"
   ]
  },
  {
   "cell_type": "markdown",
   "id": "cadfad77-eef0-41e2-898b-25cdde49074e",
   "metadata": {},
   "source": [
    "### Question 7 What do you understand about mutable and immutable data types? Give examples for both showing this property."
   ]
  },
  {
   "cell_type": "code",
   "execution_count": 25,
   "id": "32ab9c00-b44a-4ea3-93e7-96f5b1da832d",
   "metadata": {},
   "outputs": [],
   "source": [
    "lst=[1,2,4,5,7,8]\n",
    "tup=(1,2,3,5,6,8)"
   ]
  },
  {
   "cell_type": "code",
   "execution_count": 26,
   "id": "b3fba5db-3479-4c5f-8063-86c688603e17",
   "metadata": {},
   "outputs": [],
   "source": [
    "lst[2]=9"
   ]
  },
  {
   "cell_type": "code",
   "execution_count": null,
   "id": "50701107-43d2-4af5-94bc-9af44be8eae7",
   "metadata": {},
   "outputs": [],
   "source": []
  }
 ],
 "metadata": {
  "kernelspec": {
   "display_name": "Python 3 (ipykernel)",
   "language": "python",
   "name": "python3"
  },
  "language_info": {
   "codemirror_mode": {
    "name": "ipython",
    "version": 3
   },
   "file_extension": ".py",
   "mimetype": "text/x-python",
   "name": "python",
   "nbconvert_exporter": "python",
   "pygments_lexer": "ipython3",
   "version": "3.10.8"
  }
 },
 "nbformat": 4,
 "nbformat_minor": 5
}
