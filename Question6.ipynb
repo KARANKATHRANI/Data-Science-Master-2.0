{
 "cells": [
  {
   "cell_type": "code",
   "execution_count": 16,
   "id": "07549809-b69a-49c5-9fdd-8a7ff52f079f",
   "metadata": {},
   "outputs": [],
   "source": [
    "lst=list(range(1,26))"
   ]
  },
  {
   "cell_type": "code",
   "execution_count": 17,
   "id": "fd40194b-df1c-4e6c-baa3-d2002edd4626",
   "metadata": {},
   "outputs": [
    {
     "name": "stdout",
     "output_type": "stream",
     "text": [
      "[1, 2, 3, 4, 5, 6, 7, 8, 9, 10, 11, 12, 13, 14, 15, 16, 17, 18, 19, 20, 21, 22, 23, 24, 25]\n"
     ]
    }
   ],
   "source": [
    "print(lst)"
   ]
  },
  {
   "cell_type": "code",
   "execution_count": 20,
   "id": "f90f3a11-2959-49c0-a944-4ff7e2337dde",
   "metadata": {},
   "outputs": [],
   "source": [
    "lst=list(range(1,26))\n",
    "l1=[]\n",
    "l2=[]\n",
    "for i in lst:\n",
    "    if(i%3==0):\n",
    "       # print(f\" {i} is divisible by 3 \")\n",
    "       l1.append(i)\n",
    "        \n",
    "    else:\n",
    "       # print(f\" {i} is not divisible by 3 \")\n",
    "       l2.append(i)\n",
    "    \n"
   ]
  },
  {
   "cell_type": "code",
   "execution_count": 21,
   "id": "d030f62c-5234-4497-b366-e71ae15dcc73",
   "metadata": {},
   "outputs": [
    {
     "data": {
      "text/plain": [
       "[3, 6, 9, 12, 15, 18, 21, 24]"
      ]
     },
     "execution_count": 21,
     "metadata": {},
     "output_type": "execute_result"
    }
   ],
   "source": [
    "l1"
   ]
  },
  {
   "cell_type": "code",
   "execution_count": 22,
   "id": "14aaf0e6-5fbb-4f3e-b19c-c5bcba8b8d89",
   "metadata": {},
   "outputs": [
    {
     "data": {
      "text/plain": [
       "[1, 2, 4, 5, 7, 8, 10, 11, 13, 14, 16, 17, 19, 20, 22, 23, 25]"
      ]
     },
     "execution_count": 22,
     "metadata": {},
     "output_type": "execute_result"
    }
   ],
   "source": [
    "l2"
   ]
  },
  {
   "cell_type": "code",
   "execution_count": null,
   "id": "07dc934a-49b3-4465-97be-9853575d6964",
   "metadata": {},
   "outputs": [],
   "source": []
  }
 ],
 "metadata": {
  "kernelspec": {
   "display_name": "Python 3 (ipykernel)",
   "language": "python",
   "name": "python3"
  },
  "language_info": {
   "codemirror_mode": {
    "name": "ipython",
    "version": 3
   },
   "file_extension": ".py",
   "mimetype": "text/x-python",
   "name": "python",
   "nbconvert_exporter": "python",
   "pygments_lexer": "ipython3",
   "version": "3.10.8"
  }
 },
 "nbformat": 4,
 "nbformat_minor": 5
}
