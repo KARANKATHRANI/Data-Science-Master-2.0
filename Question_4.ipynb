{
 "cells": [
  {
   "cell_type": "code",
   "execution_count": 3,
   "id": "b132134d-3437-43e1-a6b7-e2b97e4d541c",
   "metadata": {},
   "outputs": [
    {
     "name": "stdout",
     "output_type": "stream",
     "text": [
      "1\n",
      "<class 'int'>\n",
      "2.3\n",
      "<class 'float'>\n",
      "karan\n",
      "<class 'str'>\n",
      "True\n",
      "<class 'bool'>\n",
      "c\n",
      "<class 'str'>\n",
      "33\n",
      "<class 'int'>\n",
      "55\n",
      "<class 'int'>\n",
      "54.6077\n",
      "<class 'float'>\n",
      "(2+3j)\n",
      "<class 'complex'>\n",
      "(3+2j)\n",
      "<class 'complex'>\n"
     ]
    }
   ],
   "source": [
    "l=[1,2.3,\"karan\",True,'c',33,55,54.6077,2+3j,3+2j]\n",
    "for i in l:\n",
    "    print(i)\n",
    "    print(type(i))"
   ]
  },
  {
   "cell_type": "code",
   "execution_count": null,
   "id": "f663f59a-dc0b-4906-8b88-a0bb50bfe729",
   "metadata": {},
   "outputs": [],
   "source": []
  }
 ],
 "metadata": {
  "kernelspec": {
   "display_name": "Python 3 (ipykernel)",
   "language": "python",
   "name": "python3"
  },
  "language_info": {
   "codemirror_mode": {
    "name": "ipython",
    "version": 3
   },
   "file_extension": ".py",
   "mimetype": "text/x-python",
   "name": "python",
   "nbconvert_exporter": "python",
   "pygments_lexer": "ipython3",
   "version": "3.10.8"
  }
 },
 "nbformat": 4,
 "nbformat_minor": 5
}
